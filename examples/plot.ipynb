{
 "cells": [
  {
   "cell_type": "code",
   "execution_count": 1,
   "id": "bcde019e-a1c2-47c4-a8f2-a7c80a082e5c",
   "metadata": {},
   "outputs": [],
   "source": [
    "import numpy as np\n",
    "import pandas as pd\n",
    "from scipy.stats import t\n",
    "import matplotlib.pyplot as plt\n",
    "from collections import defaultdict\n",
    "from os.path import join\n"
   ]
  },
  {
   "cell_type": "code",
   "execution_count": 2,
   "id": "166cd23c-7d99-475e-8896-37e233eed345",
   "metadata": {},
   "outputs": [],
   "source": [
    "def bootstrap_ci(x, confidence):\n",
    "    values = [np.random.choice(x,size=len(x),replace=True).mean() for i in range(1000)]\n",
    "    \n",
    "    return np.percentile(values,[100*(1-confidence)/2,100*(1-(1-confidence)/2)])\n",
    "\n",
    "def ci(x, confidence):\n",
    "    m = x.mean()\n",
    "    s = x.std()\n",
    "    dof = len(x) - 1\n",
    "    t_crit = np.abs(t.ppf((1-confidence)/2,dof))\n",
    "    return (m-s*t_crit/np.sqrt(len(x)), m+s*t_crit/np.sqrt(len(x)))"
   ]
  },
  {
   "cell_type": "code",
   "execution_count": 30,
   "id": "c134de1c-8d1d-4ce7-b8b7-2f21a873b041",
   "metadata": {},
   "outputs": [],
   "source": [
    "domino_dir = './results/domino/rare'\n",
    "domino_nopca_dir = './results/domino_nopca/rare'\n",
    "contrastive_dir = './results/contrastive/rare'\n",
    "contrastive_dist_dir = './results/contrastive_dist/rare'\n",
    "contrastive_local_dir = './results/contrastive_local/rare'\n",
    "contrastive_local_pca_dir = './results/contrastive_local_pca/rare'\n",
    "reg_dir = './results/reg/rare'\n",
    "weight_dir = './results/weight/rare'\n",
    "entropy_dir = './results/entropy/rare'\n",
    "entropy4_dir = './results/entropy4/rare'\n",
    "kcenter_dir = './results/kcenter/rare/'"
   ]
  },
  {
   "cell_type": "code",
   "execution_count": 5,
   "id": "7da7ebf3-0f8b-411e-988e-ab7f1b0da90e",
   "metadata": {},
   "outputs": [],
   "source": [
    "k = 25\n",
    "m = 25"
   ]
  },
  {
   "cell_type": "code",
   "execution_count": 31,
   "id": "b3323f97-65b8-4e19-8cfe-903b029423fc",
   "metadata": {},
   "outputs": [],
   "source": [
    "domino_metrics = defaultdict(dict)\n",
    "domino_nopca_metrics = defaultdict(dict)\n",
    "contrastive_metrics = defaultdict(dict)\n",
    "contrastive_dist_metrics = defaultdict(dict)\n",
    "contrastive_local_metrics = defaultdict(dict)\n",
    "contrastive_local_pca_metrics = defaultdict(dict)\n",
    "entropy_metrics = defaultdict(dict)\n",
    "entropy4_metrics = defaultdict(dict)\n",
    "kcenter_metrics = defaultdict(dict)"
   ]
  },
  {
   "cell_type": "code",
   "execution_count": 32,
   "id": "7150846c-dd04-4343-819d-00c4cd6ff3f6",
   "metadata": {},
   "outputs": [],
   "source": [
    "for lamda in [0, 5, 10, 20, 50, 100]:\n",
    "    entropy_metrics[lamda] = defaultdict(list)\n",
    "    entropy4_metrics[lamda] = defaultdict(list)\n",
    "    for seed in range(5):\n",
    "        entropy = pd.read_csv(join(entropy_dir, f'k{k}_m{m}_lambda_{lamda}_{seed}.csv'), header=0)\n",
    "        entropy4 = pd.read_csv(join(entropy4_dir, f'k{k}_m{m}_lambda_{lamda}_{seed}.csv'), header=0)\n",
    "        for col in metrics:\n",
    "            entropy_metrics[lamda][col].append(entropy[col].to_numpy().mean())\n",
    "            entropy4_metrics[lamda][col].append(entropy4[col].to_numpy().mean())\n",
    "\n",
    "for lamda in [5, 10, 20, 50, 100]:\n",
    "    domino_metrics[lamda] = defaultdict(list)\n",
    "    for seed in range(5):\n",
    "        domino = pd.read_csv(join(domino_dir, f'k{k}_m{m}_lambda_{float(lamda)}_{seed}.csv'), header=0)\n",
    "        for col in metrics:\n",
    "            domino_metrics[lamda][col].append(domino[col].to_numpy().mean())\n",
    "\n",
    "for lamda in [5, 10, 20, 50, 100]:\n",
    "    kcenter_metrics[lamda] = defaultdict(list)\n",
    "    for seed in range(5):\n",
    "        try:\n",
    "            kcenter = pd.read_csv(join(kcenter_dir, f'k{k}_m{m}_lambda_{float(lamda)}_{seed}.csv'), header=0)\n",
    "            for col in metrics:\n",
    "                kcenter_metrics[lamda][col].append(kcenter[col].to_numpy().mean())\n",
    "        except:\n",
    "            continue\n",
    "\n",
    "for lamda in [10, 20, 100]:\n",
    "    domino_nopca_metrics[lamda] = defaultdict(list)\n",
    "    for seed in range(5):\n",
    "        domino_nopca = pd.read_csv(join(domino_nopca_dir, f'k{k}_m{m}_lambda_{float(lamda)}_{seed}.csv'), header=0)\n",
    "        for col in metrics:\n",
    "            domino_nopca_metrics[lamda][col].append(domino_nopca[col].to_numpy().mean())\n",
    "\n",
    "for lamda in [0, 10, 20, 50, 100]:\n",
    "    contrastive_metrics[lamda] = defaultdict(list)\n",
    "    for seed in range(5):\n",
    "        contrastive = pd.read_csv(join(contrastive_dir, f'k{k}_m{m}_lambda_{float(lamda)}_{seed}.csv'), header=0)\n",
    "        for col in metrics:\n",
    "            contrastive_metrics[lamda][col].append(contrastive[col].to_numpy().mean())\n",
    "\n",
    "for lamda in [0, 10, 20, 100]:\n",
    "    contrastive_dist_metrics[lamda] = defaultdict(list)\n",
    "    for seed in range(5):\n",
    "        contrastive_dist = pd.read_csv(join(contrastive_dist_dir, f'k{k}_m{m}_lambda_{float(lamda)}_{seed}.csv'), header=0)\n",
    "        for col in metrics:\n",
    "            contrastive_dist_metrics[lamda][col].append(contrastive_dist[col].to_numpy().mean())\n",
    "\n",
    "for lamda in [0, 10, 20, 100]:\n",
    "    contrastive_local_metrics[lamda] = defaultdict(list)\n",
    "    for seed in range(5):\n",
    "        try:\n",
    "            contrastive_local = pd.read_csv(join(contrastive_local_dir, f'k{k}_m{m}_lambda_{float(lamda)}_{seed}.csv'), header=0)\n",
    "            for col in metrics:\n",
    "                contrastive_local_metrics[lamda][col].append(contrastive_local[col].to_numpy().mean())\n",
    "        except:\n",
    "            continue\n",
    "\n",
    "for lamda in [0, 10, 20, 100]:\n",
    "    contrastive_local_pca_metrics[lamda] = defaultdict(list)\n",
    "    for seed in range(5):\n",
    "        try:\n",
    "            contrastive_local_pca = pd.read_csv(join(contrastive_local_pca_dir, f'k{k}_m{m}_lambda_{float(lamda)}_{seed}.csv'), header=0)\n",
    "            for col in metrics:\n",
    "                contrastive_local_pca_metrics[lamda][col].append(contrastive_local_pca[col].to_numpy().mean())\n",
    "        except:\n",
    "            continue"
   ]
  },
  {
   "cell_type": "code",
   "execution_count": 14,
   "id": "ac68d786-4c03-4600-ac74-9d0584a3e3f1",
   "metadata": {},
   "outputs": [],
   "source": [
    "entropy = {\n",
    "    'domino': np.array(domino_metrics[20]['err_entropy']).mean(),\n",
    "    'entropy': np.array(entropy_metrics[20]['err_entropy']).mean(),\n",
    "    'entropy4': np.array(entropy4_metrics[20]['err_entropy']).mean()\n",
    "}\n",
    "p10 = {\n",
    "    'domino': np.array(domino_metrics[20]['precision-at-10']).mean(),\n",
    "    'entropy': np.array(entropy_metrics[20]['precision-at-10']).mean(),\n",
    "    'entropy4': np.array(entropy4_metrics[20]['precision-at-10']).mean()\n",
    "}"
   ]
  },
  {
   "cell_type": "code",
   "execution_count": 21,
   "id": "77f8294e-a86c-4f70-b9b0-ddb243327ab8",
   "metadata": {},
   "outputs": [
    {
     "data": {
      "image/png": "[encoded data removed]",
      "text/plain": [
       "<Figure size 640x480 with 1 Axes>"
      ]
     },
     "metadata": {},
     "output_type": "display_data"
    }
   ],
   "source": [
    "xpos = np.arange(2) + 0.2\n",
    "shift = {\n",
    "    'domino': -0.2,\n",
    "    'entropy': 0.0,\n",
    "    'entropy4': 0.2\n",
    "}\n",
    "plt.bar(xpos+shift['domino'], [p10['domino'], entropy['domino']], width=0.2, alpha=1, ecolor='black', label='domino')\n",
    "plt.bar(xpos+shift['entropy'], [p10['entropy'], entropy['entropy']], width=0.2, alpha=1, ecolor='black', label='entropy')\n",
    "plt.bar(xpos+shift['entropy4'], [p10['entropy4'], entropy['entropy4']], width=0.2, alpha=1, ecolor='black', label='entropy4')\n",
    "plt.legend()\n",
    "plt.xticks(xpos, ['precision-at-10', 'error-entropy'])\n",
    "plt.grid()"
   ]
  },
  {
   "cell_type": "code",
   "execution_count": 38,
   "id": "5101e40a-d8c6-4fbf-9da3-f6af3e7a1590",
   "metadata": {},
   "outputs": [
    {
     "data": {
      "text/plain": [
       "(0.0, 0.5528074561403509)"
      ]
     },
     "execution_count": 38,
     "metadata": {},
     "output_type": "execute_result"
    },
    {
     "data": {
      "image/png": "[encoded data removed]",
      "text/plain": [
       "<Figure size 640x480 with 1 Axes>"
      ]
     },
     "metadata": {},
     "output_type": "display_data"
    }
   ],
   "source": [
    "metric = 'precision-at-10'\n",
    "\n",
    "mmap = defaultdict(list)\n",
    "ci_min = defaultdict(list)\n",
    "ci_max = defaultdict(list)\n",
    "for key in domino_metrics:\n",
    "    mmap['domino'].append(np.array(domino_metrics[key][metric]).mean())\n",
    "    ci_ = bootstrap_ci(domino_metrics[key][metric], 0.95)\n",
    "    ci_min['domino'].append(ci_[0])\n",
    "    ci_max['domino'].append(ci_[1])\n",
    "\n",
    "for key in entropy_metrics:\n",
    "    mmap['entropy'].append(np.array(entropy_metrics[key][metric]).mean())\n",
    "    ci_ = bootstrap_ci(entropy_metrics[key][metric], 0.95)\n",
    "    ci_min['entropy'].append(ci_[0])\n",
    "    ci_max['entropy'].append(ci_[1])\n",
    "\n",
    "for key in entropy4_metrics:\n",
    "    mmap['entropy4'].append(np.array(entropy4_metrics[key][metric]).mean())\n",
    "    ci_ = bootstrap_ci(entropy4_metrics[key][metric], 0.95)\n",
    "    ci_min['entropy4'].append(ci_[0])\n",
    "    ci_max['entropy4'].append(ci_[1])\n",
    "\n",
    "for key in kcenter_metrics:\n",
    "    mmap['kcenter'].append(np.array(kcenter_metrics[key][metric]).mean())\n",
    "    ci_ = bootstrap_ci(kcenter_metrics[key][metric], 0.95)\n",
    "    ci_min['kcenter'].append(ci_[0])\n",
    "    ci_max['kcenter'].append(ci_[1])\n",
    "\n",
    "for key in domino_nopca_metrics:\n",
    "    mmap['domino_nopca'].append(np.array(domino_nopca_metrics[key][metric]).mean())\n",
    "    ci_ = bootstrap_ci(domino_nopca_metrics[key][metric], 0.95)\n",
    "    ci_min['domino_nopca'].append(ci_[0])\n",
    "    ci_max['domino_nopca'].append(ci_[1])\n",
    "    \n",
    "for key in contrastive_metrics:\n",
    "    mmap['contrastive'].append(np.array(contrastive_metrics[key][metric]).mean())\n",
    "    ci_ = bootstrap_ci(contrastive_metrics[key][metric], 0.95)\n",
    "    ci_min['contrastive'].append(ci_[0])\n",
    "    ci_max['contrastive'].append(ci_[1])\n",
    "\n",
    "for key in contrastive_dist_metrics:\n",
    "    mmap['contrastive_dist'].append(np.array(contrastive_dist_metrics[key][metric]).mean())\n",
    "    ci_ = bootstrap_ci(contrastive_dist_metrics[key][metric], 0.95)\n",
    "    ci_min['contrastive_dist'].append(ci_[0])\n",
    "    ci_max['contrastive_dist'].append(ci_[1])\n",
    "\n",
    "for key in contrastive_local_metrics:\n",
    "    mmap['contrastive_local'].append(np.array(contrastive_local_metrics[key][metric]).mean())\n",
    "    ci_ = bootstrap_ci(contrastive_local_metrics[key][metric], 0.95)\n",
    "    ci_min['contrastive_local'].append(ci_[0])\n",
    "    ci_max['contrastive_local'].append(ci_[1])\n",
    "\n",
    "for key in contrastive_local_pca_metrics:\n",
    "    mmap['contrastive_local_pca'].append(np.array(contrastive_local_pca_metrics[key][metric]).mean())\n",
    "    ci_ = bootstrap_ci(contrastive_local_pca_metrics[key][metric], 0.95)\n",
    "    ci_min['contrastive_local_pca'].append(ci_[0])\n",
    "    ci_max['contrastive_local_pca'].append(ci_[1])\n",
    "\n",
    "plt.plot([*domino_metrics.keys()], mmap['domino'], label='domino')\n",
    "plt.fill_between([*domino_metrics.keys()], ci_min['domino'], ci_max['domino'], alpha=0.2)\n",
    "\n",
    "# plt.plot([*entropy_metrics.keys()], mmap['entropy'], label='entropy')\n",
    "# plt.fill_between([*entropy_metrics.keys()], ci_min['entropy'], ci_max['entropy'], alpha=0.2)\n",
    "\n",
    "# plt.plot([*entropy4_metrics.keys()], mmap['entropy4'], label='entropy4')\n",
    "# plt.fill_between([*entropy4_metrics.keys()], ci_min['entropy4'], ci_max['entropy4'], alpha=0.2)\n",
    "\n",
    "# plt.plot([*kcenter_metrics.keys()], mmap['kcenter'], label='kcenter')\n",
    "# plt.fill_between([*kcenter_metrics.keys()], ci_min['kcenter'], ci_max['kcenter'], alpha=0.2)\n",
    "\n",
    "# plt.plot([*domino_nopca_metrics.keys()], mmap['domino_nopca'], label='domino_nopca')\n",
    "# plt.fill_between([*domino_nopca_metrics.keys()], ci_min['domino_nopca'], ci_max['domino_nopca'], alpha=0.2)\n",
    "\n",
    "plt.plot([*contrastive_metrics.keys()], mmap['contrastive'], label='contrastive')\n",
    "plt.fill_between([*contrastive_metrics.keys()], ci_min['contrastive'], ci_max['contrastive'], alpha=0.2)\n",
    "\n",
    "# plt.plot([*contrastive_dist_metrics.keys()], mmap['contrastive_dist'], label='contrastive_dist')\n",
    "# plt.fill_between([*contrastive_dist_metrics.keys()], ci_min['contrastive_dist'], ci_max['contrastive_dist'], alpha=0.2)\n",
    "\n",
    "# plt.plot([*contrastive_local_metrics.keys()], mmap['contrastive_local'], label='contrastive_local')\n",
    "# plt.fill_between([*contrastive_local_metrics.keys()], ci_min['contrastive_local'], ci_max['contrastive_local'], alpha=0.2)\n",
    "\n",
    "# plt.plot([*contrastive_local_pca_metrics.keys()], mmap['contrastive_local_pca'], label='contrastive_local_pca')\n",
    "# plt.fill_between([*contrastive_local_pca_metrics.keys()], ci_min['contrastive_local_pca'], ci_max['contrastive_local_pca'], alpha=0.2)\n",
    "\n",
    "plt.legend()\n",
    "plt.xlabel(r'likelihood weight $\\gamma$')\n",
    "plt.ylabel(metric)\n",
    "plt.grid()\n",
    "plt.ylim(bottom=0)"
   ]
  },
  {
   "cell_type": "code",
   "execution_count": null,
   "id": "807c6894-2868-4dd9-b3a3-264b533ecdd5",
   "metadata": {},
   "outputs": [],
   "source": []
  },
  {
   "cell_type": "code",
   "execution_count": 18,
   "id": "06fbda99-4221-4242-97db-4dba91ca3360",
   "metadata": {},
   "outputs": [
    {
     "data": {
      "text/plain": [
       "defaultdict(list,\n",
       "            {'precision-at-10': [0.4973684210526316,\n",
       "              0.5350877192982456,\n",
       "              0.518421052631579,\n",
       "              0.4973684210526316,\n",
       "              0.5499999999999999],\n",
       "             'precision-at-25': [0.46456140350877195,\n",
       "              0.4943859649122807,\n",
       "              0.4796491228070176,\n",
       "              0.4568421052631579,\n",
       "              0.5154385964912281],\n",
       "             'precision': [0.407252993391156,\n",
       "              0.4193599876335103,\n",
       "              0.43278209467541445,\n",
       "              0.40808965533719965,\n",
       "              0.45397349497854816],\n",
       "             'recall': [0.4620812402096972,\n",
       "              0.5017660466310054,\n",
       "              0.4848428176363107,\n",
       "              0.5119077498807587,\n",
       "              0.49386984449149607]})"
      ]
     },
     "execution_count": 18,
     "metadata": {},
     "output_type": "execute_result"
    }
   ],
   "source": [
    "domino_metrics[20]"
   ]
  },
  {
   "cell_type": "code",
   "execution_count": 39,
   "id": "030bd0f2-d473-48b1-a166-01bd615cb148",
   "metadata": {},
   "outputs": [],
   "source": [
    "metrics = ['precision-at-10', 'precision-at-25', 'precision', 'recall']#, 'err_entropy']\n",
    "xpos = np.arange(len(metrics)) + 0.2\n",
    "shift = {\n",
    "    'domino': -.15,\n",
    "    'contrastive': 0.15\n",
    "}"
   ]
  },
  {
   "cell_type": "code",
   "execution_count": 40,
   "id": "3561272f-1006-4830-be90-598a1ba5e0a2",
   "metadata": {},
   "outputs": [],
   "source": [
    "max_seed = {\n",
    "    'domino': 20,\n",
    "    'contrastive': 50\n",
    "}"
   ]
  },
  {
   "cell_type": "code",
   "execution_count": 41,
   "id": "9186b781-ee76-4fe5-acf1-91dfdf9f25d3",
   "metadata": {},
   "outputs": [
    {
     "data": {
      "image/png": "[encoded data removed]",
      "text/plain": [
       "<Figure size 700x700 with 1 Axes>"
      ]
     },
     "metadata": {},
     "output_type": "display_data"
    }
   ],
   "source": [
    "fig = plt.figure(figsize=(7,7))\n",
    "for method in ['domino', 'contrastive']:\n",
    "    p10 = np.array(eval(f'{method}_metrics')[max_seed[method]]['precision-at-10'])\n",
    "    p10_ci = bootstrap_ci(p10, 0.95)\n",
    "\n",
    "    p25 = np.array(eval(f'{method}_metrics')[max_seed[method]]['precision-at-25'])\n",
    "    p25_ci = bootstrap_ci(p25, 0.95)\n",
    "\n",
    "    precision = np.array(eval(f'{method}_metrics')[max_seed[method]]['precision'])\n",
    "    precision_ci = bootstrap_ci(precision, 0.95)\n",
    "\n",
    "    recall = np.array(eval(f'{method}_metrics')[max_seed[method]]['recall'])\n",
    "    recall_ci = bootstrap_ci(recall, 0.95)\n",
    "\n",
    "    means = np.array([p10.mean(), p25.mean(), precision.mean(), recall.mean()])\n",
    "    ci = np.stack([p10_ci, p25_ci, precision_ci, recall_ci], axis=1)\n",
    "    errors = np.stack([means - ci[0], ci[1] - means])\n",
    "    plt.bar(xpos+shift[method], means, yerr=errors, width=0.3, alpha=1, ecolor='black', label=method)\n",
    "    \n",
    "plt.grid(which='both')\n",
    "plt.legend()\n",
    "plt.ylim(top=1.0)\n",
    "plt.xticks(xpos, metrics)\n",
    "# plt.title(r\"Top $\\hat{k}$\"+ '={} clusters from '.format(k) + r\"$\\bar{k}$\" + \"={} slices.\".format(m))\n",
    "\n",
    "# plt.savefig('./kcenter_domino_rare_natural.png')\n",
    "plt.show()"
   ]
  },
  {
   "cell_type": "code",
   "execution_count": null,
   "id": "14bb3f3d-8628-4cac-befb-460fbb6eff66",
   "metadata": {},
   "outputs": [],
   "source": []
  }
 ],
 "metadata": {
  "kernelspec": {
   "display_name": "domino",
   "language": "python",
   "name": "python3"
  },
  "language_info": {
   "codemirror_mode": {
    "name": "ipython",
    "version": 3
   },
   "file_extension": ".py",
   "mimetype": "text/x-python",
   "name": "python",
   "nbconvert_exporter": "python",
   "pygments_lexer": "ipython3",
   "version": "3.10.4 (main, Mar 31 2022, 08:41:55) [GCC 7.5.0]"
  },
  "vscode": {
   "interpreter": {
    "hash": "94e8aae870298b9f728ed35c03e21997d15b5a0e304d1d16c3d585b5c5683450"
   }
  }
 },
 "nbformat": 4,
 "nbformat_minor": 5
}
